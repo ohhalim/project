{
 "cells": [
  {
   "cell_type": "markdown",
   "id": "ed217c03-9ce3-4f44-8260-45cfaa31fcca",
   "metadata": {},
   "source": [
    "# **1. 데이터셋 불러오기**\n",
    "데이터셋을 다운로드한 후에 데이터셋을 불러오고, 불러온 데이터프레임의 상단 5개의 데이터와 하단 5개의 데이터, 컬럼과 shape를 불러오는 코드를 작성해주세요."
   ]
  },
  {
   "cell_type": "code",
   "execution_count": 2,
   "id": "f743dbb8-e492-477d-be93-b45dd660c58f",
   "metadata": {},
   "outputs": [
    {
     "name": "stdout",
     "output_type": "stream",
     "text": [
      "Downloading from https://www.kaggle.com/api/v1/datasets/download/ashishkumarak/netflix-reviews-playstore-daily-updated?dataset_version_number=170...\n"
     ]
    },
    {
     "name": "stderr",
     "output_type": "stream",
     "text": [
      "100%|█████████████████████████████████████████████████████████████████████████████| 12.8M/12.8M [00:01<00:00, 12.2MB/s]"
     ]
    },
    {
     "name": "stdout",
     "output_type": "stream",
     "text": [
      "Extracting files...\n"
     ]
    },
    {
     "name": "stderr",
     "output_type": "stream",
     "text": [
      "\n"
     ]
    },
    {
     "name": "stdout",
     "output_type": "stream",
     "text": [
      "Path to dataset files: C:\\Users\\LG\\.cache\\kagglehub\\datasets\\ashishkumarak\\netflix-reviews-playstore-daily-updated\\versions\\170\n"
     ]
    }
   ],
   "source": [
    "import kagglehub\n",
    "\n",
    "# Download latest version\n",
    "path = kagglehub.dataset_download(\"ashishkumarak/netflix-reviews-playstore-daily-updated\")\n",
    "\n",
    "print(\"Path to dataset files:\", path)"
   ]
  },
  {
   "cell_type": "code",
   "execution_count": 5,
   "id": "04b4cc99-47d0-4aab-a8c8-a777dc4b4522",
   "metadata": {},
   "outputs": [],
   "source": [
    "import pandas as pd\n",
    "\n",
    "df = pd.read_csv(\"netflix_reviews.csv\")  # 파일 불러오기"
   ]
  },
  {
   "cell_type": "code",
   "execution_count": 6,
   "id": "16eea737-92d0-4a1d-a840-15995947e387",
   "metadata": {},
   "outputs": [
    {
     "data": {
      "text/html": [
       "<div>\n",
       "<style scoped>\n",
       "    .dataframe tbody tr th:only-of-type {\n",
       "        vertical-align: middle;\n",
       "    }\n",
       "\n",
       "    .dataframe tbody tr th {\n",
       "        vertical-align: top;\n",
       "    }\n",
       "\n",
       "    .dataframe thead th {\n",
       "        text-align: right;\n",
       "    }\n",
       "</style>\n",
       "<table border=\"1\" class=\"dataframe\">\n",
       "  <thead>\n",
       "    <tr style=\"text-align: right;\">\n",
       "      <th></th>\n",
       "      <th>reviewId</th>\n",
       "      <th>userName</th>\n",
       "      <th>content</th>\n",
       "      <th>score</th>\n",
       "      <th>thumbsUpCount</th>\n",
       "      <th>reviewCreatedVersion</th>\n",
       "      <th>at</th>\n",
       "      <th>appVersion</th>\n",
       "    </tr>\n",
       "  </thead>\n",
       "  <tbody>\n",
       "    <tr>\n",
       "      <th>0</th>\n",
       "      <td>5f109900-7485-4333-8317-44251899fc83</td>\n",
       "      <td>Siddiqui Alkasim</td>\n",
       "      <td>Good 😊</td>\n",
       "      <td>5</td>\n",
       "      <td>0</td>\n",
       "      <td>8.137.0 build 4 50942</td>\n",
       "      <td>2024-10-26 13:41:01</td>\n",
       "      <td>8.137.0 build 4 50942</td>\n",
       "    </tr>\n",
       "    <tr>\n",
       "      <th>1</th>\n",
       "      <td>68174e16-f4a3-48f8-b0e7-f60840800d71</td>\n",
       "      <td>Binher Bilal</td>\n",
       "      <td>App acha hai lkin isne mere acc se khud paise ...</td>\n",
       "      <td>1</td>\n",
       "      <td>0</td>\n",
       "      <td>8.137.0 build 4 50942</td>\n",
       "      <td>2024-10-26 13:03:47</td>\n",
       "      <td>8.137.0 build 4 50942</td>\n",
       "    </tr>\n",
       "    <tr>\n",
       "      <th>2</th>\n",
       "      <td>b95c7685-cf4c-4a13-a8ce-798ec921fc84</td>\n",
       "      <td>Gabriella Guzman</td>\n",
       "      <td>Poop</td>\n",
       "      <td>5</td>\n",
       "      <td>0</td>\n",
       "      <td>8.137.0 build 4 50942</td>\n",
       "      <td>2024-10-26 13:01:15</td>\n",
       "      <td>8.137.0 build 4 50942</td>\n",
       "    </tr>\n",
       "    <tr>\n",
       "      <th>3</th>\n",
       "      <td>f3fb3677-8220-439e-8500-403b5378e04e</td>\n",
       "      <td>archie arreola</td>\n",
       "      <td>Poor</td>\n",
       "      <td>1</td>\n",
       "      <td>0</td>\n",
       "      <td>8.137.0 build 4 50942</td>\n",
       "      <td>2024-10-26 13:00:50</td>\n",
       "      <td>8.137.0 build 4 50942</td>\n",
       "    </tr>\n",
       "    <tr>\n",
       "      <th>4</th>\n",
       "      <td>45243bcb-120b-4dd4-acfa-9ae16197242e</td>\n",
       "      <td>Mzokhona Mthethwa</td>\n",
       "      <td>It is just the best app you could rely on</td>\n",
       "      <td>5</td>\n",
       "      <td>0</td>\n",
       "      <td>NaN</td>\n",
       "      <td>2024-10-26 12:57:57</td>\n",
       "      <td>NaN</td>\n",
       "    </tr>\n",
       "    <tr>\n",
       "      <th>...</th>\n",
       "      <td>...</td>\n",
       "      <td>...</td>\n",
       "      <td>...</td>\n",
       "      <td>...</td>\n",
       "      <td>...</td>\n",
       "      <td>...</td>\n",
       "      <td>...</td>\n",
       "      <td>...</td>\n",
       "    </tr>\n",
       "    <tr>\n",
       "      <th>117539</th>\n",
       "      <td>a760ead9-e7aa-4ed1-a651-5c37c3600dac</td>\n",
       "      <td>A Google user</td>\n",
       "      <td>i really like it! there are so many movies and...</td>\n",
       "      <td>5</td>\n",
       "      <td>0</td>\n",
       "      <td>NaN</td>\n",
       "      <td>2019-08-03 15:06:03</td>\n",
       "      <td>NaN</td>\n",
       "    </tr>\n",
       "    <tr>\n",
       "      <th>117540</th>\n",
       "      <td>4957f9e7-d7f4-4a52-9764-031cebcac83f</td>\n",
       "      <td>Captain Jeoy</td>\n",
       "      <td>I love Netflix. I always enjoy my time using it.</td>\n",
       "      <td>5</td>\n",
       "      <td>0</td>\n",
       "      <td>8.34.0 build 4 50250</td>\n",
       "      <td>2022-08-15 16:16:30</td>\n",
       "      <td>8.34.0 build 4 50250</td>\n",
       "    </tr>\n",
       "    <tr>\n",
       "      <th>117541</th>\n",
       "      <td>9acf7586-7abf-4b50-8c50-3ede3b2a42c4</td>\n",
       "      <td>Suryansh</td>\n",
       "      <td>Sound quality is very slow of movies</td>\n",
       "      <td>1</td>\n",
       "      <td>0</td>\n",
       "      <td>NaN</td>\n",
       "      <td>2020-08-17 07:26:58</td>\n",
       "      <td>NaN</td>\n",
       "    </tr>\n",
       "    <tr>\n",
       "      <th>117542</th>\n",
       "      <td>32870f7f-c461-4256-b602-75244ca60248</td>\n",
       "      <td>A Google user</td>\n",
       "      <td>Rate is very expensive.. bcos we see netflix s...</td>\n",
       "      <td>1</td>\n",
       "      <td>0</td>\n",
       "      <td>7.17.0 build 13 34346</td>\n",
       "      <td>2019-07-21 09:41:42</td>\n",
       "      <td>7.17.0 build 13 34346</td>\n",
       "    </tr>\n",
       "    <tr>\n",
       "      <th>117543</th>\n",
       "      <td>dc1352e9-10a8-41ca-ab23-05d045b08e90</td>\n",
       "      <td>suraj soni</td>\n",
       "      <td>this app is awesome for english movies ,series...</td>\n",
       "      <td>4</td>\n",
       "      <td>0</td>\n",
       "      <td>NaN</td>\n",
       "      <td>2020-05-24 11:04:08</td>\n",
       "      <td>NaN</td>\n",
       "    </tr>\n",
       "  </tbody>\n",
       "</table>\n",
       "<p>117544 rows × 8 columns</p>\n",
       "</div>"
      ],
      "text/plain": [
       "                                    reviewId           userName  \\\n",
       "0       5f109900-7485-4333-8317-44251899fc83   Siddiqui Alkasim   \n",
       "1       68174e16-f4a3-48f8-b0e7-f60840800d71       Binher Bilal   \n",
       "2       b95c7685-cf4c-4a13-a8ce-798ec921fc84   Gabriella Guzman   \n",
       "3       f3fb3677-8220-439e-8500-403b5378e04e     archie arreola   \n",
       "4       45243bcb-120b-4dd4-acfa-9ae16197242e  Mzokhona Mthethwa   \n",
       "...                                      ...                ...   \n",
       "117539  a760ead9-e7aa-4ed1-a651-5c37c3600dac      A Google user   \n",
       "117540  4957f9e7-d7f4-4a52-9764-031cebcac83f       Captain Jeoy   \n",
       "117541  9acf7586-7abf-4b50-8c50-3ede3b2a42c4           Suryansh   \n",
       "117542  32870f7f-c461-4256-b602-75244ca60248      A Google user   \n",
       "117543  dc1352e9-10a8-41ca-ab23-05d045b08e90         suraj soni   \n",
       "\n",
       "                                                  content  score  \\\n",
       "0                                                  Good 😊      5   \n",
       "1       App acha hai lkin isne mere acc se khud paise ...      1   \n",
       "2                                                    Poop      5   \n",
       "3                                                    Poor      1   \n",
       "4               It is just the best app you could rely on      5   \n",
       "...                                                   ...    ...   \n",
       "117539  i really like it! there are so many movies and...      5   \n",
       "117540   I love Netflix. I always enjoy my time using it.      5   \n",
       "117541               Sound quality is very slow of movies      1   \n",
       "117542  Rate is very expensive.. bcos we see netflix s...      1   \n",
       "117543  this app is awesome for english movies ,series...      4   \n",
       "\n",
       "        thumbsUpCount   reviewCreatedVersion                   at  \\\n",
       "0                   0  8.137.0 build 4 50942  2024-10-26 13:41:01   \n",
       "1                   0  8.137.0 build 4 50942  2024-10-26 13:03:47   \n",
       "2                   0  8.137.0 build 4 50942  2024-10-26 13:01:15   \n",
       "3                   0  8.137.0 build 4 50942  2024-10-26 13:00:50   \n",
       "4                   0                    NaN  2024-10-26 12:57:57   \n",
       "...               ...                    ...                  ...   \n",
       "117539              0                    NaN  2019-08-03 15:06:03   \n",
       "117540              0   8.34.0 build 4 50250  2022-08-15 16:16:30   \n",
       "117541              0                    NaN  2020-08-17 07:26:58   \n",
       "117542              0  7.17.0 build 13 34346  2019-07-21 09:41:42   \n",
       "117543              0                    NaN  2020-05-24 11:04:08   \n",
       "\n",
       "                   appVersion  \n",
       "0       8.137.0 build 4 50942  \n",
       "1       8.137.0 build 4 50942  \n",
       "2       8.137.0 build 4 50942  \n",
       "3       8.137.0 build 4 50942  \n",
       "4                         NaN  \n",
       "...                       ...  \n",
       "117539                    NaN  \n",
       "117540   8.34.0 build 4 50250  \n",
       "117541                    NaN  \n",
       "117542  7.17.0 build 13 34346  \n",
       "117543                    NaN  \n",
       "\n",
       "[117544 rows x 8 columns]"
      ]
     },
     "execution_count": 6,
     "metadata": {},
     "output_type": "execute_result"
    }
   ],
   "source": [
    "df"
   ]
  },
  {
   "cell_type": "code",
   "execution_count": 8,
   "id": "c4728559-bf26-4019-acc0-5d9a09ca2a8d",
   "metadata": {},
   "outputs": [
    {
     "name": "stdout",
     "output_type": "stream",
     "text": [
      "상단 5개 데이터:\n",
      "                               reviewId           userName  \\\n",
      "0  5f109900-7485-4333-8317-44251899fc83   Siddiqui Alkasim   \n",
      "1  68174e16-f4a3-48f8-b0e7-f60840800d71       Binher Bilal   \n",
      "2  b95c7685-cf4c-4a13-a8ce-798ec921fc84   Gabriella Guzman   \n",
      "3  f3fb3677-8220-439e-8500-403b5378e04e     archie arreola   \n",
      "4  45243bcb-120b-4dd4-acfa-9ae16197242e  Mzokhona Mthethwa   \n",
      "\n",
      "                                             content  score  thumbsUpCount  \\\n",
      "0                                             Good 😊      5              0   \n",
      "1  App acha hai lkin isne mere acc se khud paise ...      1              0   \n",
      "2                                               Poop      5              0   \n",
      "3                                               Poor      1              0   \n",
      "4          It is just the best app you could rely on      5              0   \n",
      "\n",
      "    reviewCreatedVersion                   at             appVersion  \n",
      "0  8.137.0 build 4 50942  2024-10-26 13:41:01  8.137.0 build 4 50942  \n",
      "1  8.137.0 build 4 50942  2024-10-26 13:03:47  8.137.0 build 4 50942  \n",
      "2  8.137.0 build 4 50942  2024-10-26 13:01:15  8.137.0 build 4 50942  \n",
      "3  8.137.0 build 4 50942  2024-10-26 13:00:50  8.137.0 build 4 50942  \n",
      "4                    NaN  2024-10-26 12:57:57                    NaN  \n",
      "\n",
      "하단 5개 데이터:\n",
      "                                    reviewId       userName  \\\n",
      "117539  a760ead9-e7aa-4ed1-a651-5c37c3600dac  A Google user   \n",
      "117540  4957f9e7-d7f4-4a52-9764-031cebcac83f   Captain Jeoy   \n",
      "117541  9acf7586-7abf-4b50-8c50-3ede3b2a42c4       Suryansh   \n",
      "117542  32870f7f-c461-4256-b602-75244ca60248  A Google user   \n",
      "117543  dc1352e9-10a8-41ca-ab23-05d045b08e90     suraj soni   \n",
      "\n",
      "                                                  content  score  \\\n",
      "117539  i really like it! there are so many movies and...      5   \n",
      "117540   I love Netflix. I always enjoy my time using it.      5   \n",
      "117541               Sound quality is very slow of movies      1   \n",
      "117542  Rate is very expensive.. bcos we see netflix s...      1   \n",
      "117543  this app is awesome for english movies ,series...      4   \n",
      "\n",
      "        thumbsUpCount   reviewCreatedVersion                   at  \\\n",
      "117539              0                    NaN  2019-08-03 15:06:03   \n",
      "117540              0   8.34.0 build 4 50250  2022-08-15 16:16:30   \n",
      "117541              0                    NaN  2020-08-17 07:26:58   \n",
      "117542              0  7.17.0 build 13 34346  2019-07-21 09:41:42   \n",
      "117543              0                    NaN  2020-05-24 11:04:08   \n",
      "\n",
      "                   appVersion  \n",
      "117539                    NaN  \n",
      "117540   8.34.0 build 4 50250  \n",
      "117541                    NaN  \n",
      "117542  7.17.0 build 13 34346  \n",
      "117543                    NaN  \n",
      "\n",
      "Shape of the dataset: (117544, 8)\n",
      "Columns in the dataset: Index(['reviewId', 'userName', 'content', 'score', 'thumbsUpCount',\n",
      "       'reviewCreatedVersion', 'at', 'appVersion'],\n",
      "      dtype='object')\n"
     ]
    }
   ],
   "source": [
    "# 데이터셋의 상단 5개와 하단 5개 데이터 출력\n",
    "print(\"상단 5개 데이터:\")\n",
    "print(df.head())  # 상단 5개 데이터\n",
    "\n",
    "print(\"\\n하단 5개 데이터:\")\n",
    "print(df.tail())  # 하단 5개 데이터\n",
    "\n",
    "# 데이터셋의 shape과 컬럼 정보 출력\n",
    "print(f\"\\nShape of the dataset: {df.shape}\")\n",
    "print(f\"Columns in the dataset: {df.columns}\")"
   ]
  },
  {
   "cell_type": "markdown",
   "id": "7d614b1e-cac1-47ce-8bfb-296dbe4e296e",
   "metadata": {},
   "source": [
    "# **2. 데이터 전처리**\n",
    "텍스트 데이터에는 불용어(쓸모없는 단어, 구두점 등)가 많습니다. 해당 부분을 없애주는 처리가 필요합니다. 텍스트 데이터에 대한 전처리를 해주세요."
   ]
  },
  {
   "cell_type": "code",
   "execution_count": 7,
   "id": "e443d02d-cd1b-42e4-a16f-e514aea38557",
   "metadata": {},
   "outputs": [],
   "source": [
    "# 전처리 함수\n",
    "def preprocess_text(text):\n",
    "    if isinstance(text, float):\n",
    "        return \"\"\n",
    "    text = text.lower()  # 대문자를 소문자로\n",
    "    text = re.sub(r'[^\\w\\s]', '', text)  # 구두점 제거\n",
    "    text = re.sub(r'\\d+', '', text)  # 숫자 제거\n",
    "    text = text.strip()  # 띄어쓰기 제외하고 빈 칸 제거\n",
    "    return text"
   ]
  },
  {
   "cell_type": "markdown",
   "id": "1db82bc5-146d-450d-9bac-511b898a427a",
   "metadata": {},
   "source": [
    "# **3. feature 분석 (EDA)**\n",
    "데이터를 잘 불러오셨다면 해당 데이터의 feature를 찾아야 합니다. 해당 넷플릭스의 데이터에는 리뷰가 1점부터 5점까지 있습니다. 해당 데이터의 분포를 그래프로 그려주세요. "
   ]
  },
  {
   "cell_type": "code",
   "execution_count": 11,
   "id": "52f74dfb-650f-4839-9625-9e2a0824936d",
   "metadata": {},
   "outputs": [
    {
     "data": {
      "image/png": "[encoded data removed]",
      "text/plain": [
       "<Figure size 640x480 with 1 Axes>"
      ]
     },
     "metadata": {},
     "output_type": "display_data"
    }
   ],
   "source": [
    "import pandas as pd\n",
    "import seaborn as sns  # 그래프를 그리기 위한 seaborn 라이브러리 임포트\n",
    "import matplotlib.pyplot as plt  # 그래프 표시를 위한 pyplot 임포트\n",
    "\n",
    "# 각 점수별 리뷰 수 계산\n",
    "리뷰갯수 = df['score'].value_counts().reset_index()\n",
    "리뷰갯수.columns = ['리뷰컬럼', '리뷰갯수']  # 컬럼 이름 변경\n",
    "\n",
    "# 바 차트 그리기\n",
    "sns.barplot(x='리뷰컬럼', y='리뷰갯수', data=리뷰갯수)\n",
    "plt.xlabel('Score')\n",
    "plt.ylabel('Count')\n",
    "plt.title('Score Distribution of Reviews')\n",
    "plt.show()"
   ]
  },
  {
   "cell_type": "markdown",
   "id": "492b9435-681d-4971-8e7e-1c78c3860c51",
   "metadata": {},
   "source": [
    "# **4. 리뷰 예측 모델 학습시키기 (LSTM)**\n",
    "이제 어떤 리뷰를 쓰면 점수가 어떻게 나올지에 대해서 예측을 해보고 싶습니다. 로지스틱 회귀 등을 사용하여, 리뷰에 대한 점수 예측을 진행해보세요"
   ]
  },
  {
   "cell_type": "code",
   "execution_count": null,
   "id": "15c518a8-790b-4a5b-84c4-4bf6200bbd92",
   "metadata": {},
   "outputs": [],
   "source": [
    "PyTorch\n"
   ]
  }
 ],
 "metadata": {
  "kernelspec": {
   "display_name": "ML",
   "language": "python",
   "name": "ml"
  },
  "language_info": {
   "codemirror_mode": {
    "name": "ipython",
    "version": 3
   },
   "file_extension": ".py",
   "mimetype": "text/x-python",
   "name": "python",
   "nbconvert_exporter": "python",
   "pygments_lexer": "ipython3",
   "version": "3.12.5"
  }
 },
 "nbformat": 4,
 "nbformat_minor": 5
}
