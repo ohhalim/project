{
 "cells": [
  {
   "cell_type": "markdown",
   "id": "00211cb1",
   "metadata": {},
   "source": [
    "3. **feature engineering**\n",
    "    \n",
    "    feature engineering은 모델의 성능을 향상시키기 위해 중요한 단계입니다. 2번 feature 분석에서 얻은 데이터에 대한 이해를 바탕으로 아래의 feature engineering을 수행해주세요. \n",
    "    \n",
    "    **3-1. 결측치 처리**\n",
    "    \n",
    "    Age(나이)의 결측치는 중앙값으로, Embarked(승선 항구)의 결측치는 최빈값으로 대체해주세요. 모두 대체한 후에, 대체 결과를 `isnull()` 함수와 `sum()`  함수를 이용해서 확인해주세요."
   ]
  },
  {
   "cell_type": "code",
   "execution_count": 11,
   "id": "c2399397-267f-4af2-8633-cb77176c8cb0",
   "metadata": {},
   "outputs": [
    {
     "name": "stdout",
     "output_type": "stream",
     "text": [
      "0\n",
      "0\n"
     ]
    }
   ],
   "source": [
    "titanic['age'].fillna(titanic['age'].median(), inplace=True)\n",
    "titanic['embarked'].fillna(titanic['embarked'].mode()[0], inplace=True)\n",
    "\n",
    "print(titanic['age'].isnull().sum())\n",
    "print(titanic['embarked'].isnull().sum())"
   ]
  },
  {
   "cell_type": "markdown",
   "id": "47663df4",
   "metadata": {},
   "source": [
    "1. titanic['age'].fillna(titanic['age'].median(), inplace=True)\n",
    "titanic 데이터프레임의 age 열에 있는 결측값을 age 열의 중앙값(median)으로 대체한다.\n",
    "\n",
    "2. titanic['embarked'].fillna(titanic['embarked'].mode()[0], inplace=True)\n",
    "titanic 데이터프레임의 embarked 열에 있는 결측값을 embarked 열의 최빈값(mode)으로 대체한다. 최빈값이 여러 개 있을 수 있으므로 [0]으로 첫 번째 최빈값을 사용한다.\n",
    "\n",
    "3. print(titanic['age'].isnull().sum())\n",
    "age 열에 남아 있는 결측값의 수를 출력한다. 앞서 결측값을 중앙값으로 모두 대체했으므로, 출력값은 0이어야 한다.\n",
    "\n",
    "4. print(titanic['embarked'].isnull().sum())\n",
    "embarked 열에 남아 있는 결측값의 수를 출력한다. 앞서 결측값을 최빈값으로 모두 대체했으므로, 출력값은 0이어야 한다."
   ]
  },
  {
   "cell_type": "markdown",
   "id": "909d1338",
   "metadata": {},
   "source": [
    "**3-2. 수치형으로 인코딩**\n",
    "\n",
    "Sex(성별)를 남자는 0, 여자는 1로 변환해주세요. alive(생존여부)를 yes는 1, no는 0으로 변환해주세요. Embarked(승선 항구)는 ‘C’는 0으로, Q는 1으로, ‘S’는 2로 변환해주세요. 모두 변환한 후에, 변환 결과를 `head` 함수를 이용해 확인해주세요."
   ]
  },
  {
   "cell_type": "code",
   "execution_count": 12,
   "id": "1e896807-686b-46dc-9753-ad02587afcfc",
   "metadata": {},
   "outputs": [
    {
     "name": "stdout",
     "output_type": "stream",
     "text": [
      "0    0\n",
      "1    1\n",
      "2    1\n",
      "3    1\n",
      "4    0\n",
      "Name: sex, dtype: int64\n",
      "0    0\n",
      "1    1\n",
      "2    1\n",
      "3    1\n",
      "4    0\n",
      "Name: alive, dtype: int64\n",
      "0    2\n",
      "1    0\n",
      "2    2\n",
      "3    2\n",
      "4    2\n",
      "Name: embarked, dtype: int64\n"
     ]
    }
   ],
   "source": [
    "titanic['sex'] = titanic['sex'].map({'male': 0, 'female': 1})\n",
    "titanic['alive'] = titanic['alive'].map({'yes': 1, 'no': 0})\n",
    "titanic['embarked'] = titanic['embarked'].map({'C': 0, 'Q': 1, 'S': 2,})\n",
    "\n",
    "print(titanic['sex'].head())\n",
    "print(titanic['alive'].head())\n",
    "print(titanic['embarked'].head())"
   ]
  },
  {
   "cell_type": "markdown",
   "id": "329b0a9b",
   "metadata": {},
   "source": [
    "1. titanic['sex'] = titanic['sex'].map({'male': 0, 'female': 1})\n",
    "sex 열의 값인 'male'과 'female'을 각각 0과 1로 변환한다.\n",
    "\n",
    "2. titanic['alive'] = titanic['alive'].map({'yes': 1, 'no': 0})\n",
    "alive 열의 값인 'yes'와 'no'를 각각 1과 0으로 변환한다.\n",
    "\n",
    "3. titanic['embarked'] = titanic['embarked'].map({'C': 0, 'Q': 1, 'S': 2})\n",
    "embarked 열의 값인 'C', 'Q', 'S'를 각각 0, 1, 2로 변환한다.\n",
    "\n",
    "4. print(titanic['sex'].head())\n",
    "sex 열의 첫 5개의 값을 출력한다. 값이 0과 1로 변환되었는지 확인할 수 있다.\n",
    "\n",
    "5. print(titanic['alive'].head())\n",
    "alive 열의 첫 5개의 값을 출력한다. 값이 0과 1로 변환되었는지 확인할 수 있다.\n",
    "\n",
    "6. print(titanic['embarked'].head())\n",
    "embarked 열의 첫 5개의 값을 출력한다. 값이 0, 1, 2로 변환되었는지 확인할 수 있다."
   ]
  },
  {
   "cell_type": "markdown",
   "id": "1bcf7239",
   "metadata": {},
   "source": [
    "**3-3. 새로운 feature 생성**\n",
    "\n",
    "SibSip(타이타닉호에 동승한 자매 및 배우자의 수), Parch(타이타닉호에 동승한 부모 및 자식의 수)를 통해서 family_size(가족크기)를 생성해주세요. 새로운 feature를 `head` 함수를 이용해 확인해주세요."
   ]
  },
  {
   "cell_type": "markdown",
   "id": "5b01883e",
   "metadata": {},
   "source": [
    "두 열 모두 승객 자신을 제외한 배우자, 형제자매, 부모, 자녀 등의 수를 나타내는 수기 때문에 가족의 수를 알기 위해서는 두 수에서 자신의 숫자를 더해줘야하기때문에 SibSip + Parch +1 로 한다."
   ]
  },
  {
   "cell_type": "code",
   "execution_count": 33,
   "id": "13040345-4487-4c3e-abc2-68d96ad40c19",
   "metadata": {},
   "outputs": [
    {
     "name": "stdout",
     "output_type": "stream",
     "text": [
      "0    2\n",
      "1    2\n",
      "2    1\n",
      "3    2\n",
      "4    1\n",
      "Name: family_size, dtype: int64\n"
     ]
    }
   ],
   "source": [
    "titanic['family_size'] = titanic['sibsp'] + titanic['parch'] + 1\n",
    "\n",
    "print(titanic['family_size'].head())"
   ]
  },
  {
   "cell_type": "markdown",
   "id": "b39fc022",
   "metadata": {},
   "source": [
    "#자체 평가 의견: 협업을 위한 깃허브 사용에 무척 어려움을 겪었다. "
   ]
  }
 ],
 "metadata": {
  "kernelspec": {
   "display_name": "Python 3 (ipykernel)",
   "language": "python",
   "name": "python3"
  },
  "language_info": {
   "codemirror_mode": {
    "name": "ipython",
    "version": 3
   },
   "file_extension": ".py",
   "mimetype": "text/x-python",
   "name": "python",
   "nbconvert_exporter": "python",
   "pygments_lexer": "ipython3",
   "version": "3.8.20"
  }
 },
 "nbformat": 4,
 "nbformat_minor": 5
}
