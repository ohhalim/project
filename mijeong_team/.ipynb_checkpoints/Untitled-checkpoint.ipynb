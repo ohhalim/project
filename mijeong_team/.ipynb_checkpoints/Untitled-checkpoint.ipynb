{
 "cells": [
  {
   "cell_type": "code",
   "execution_count": null,
   "id": "8c5503f2-8a99-48b5-9f20-e41a488b42c1",
   "metadata": {},
   "outputs": [],
   "source": []
  },
  {
   "cell_type": "code",
   "execution_count": null,
   "id": "99f051e6-18b6-4ff9-9ec4-06f5c0f2d016",
   "metadata": {},
   "outputs": [],
   "source": []
  },
  {
   "cell_type": "code",
   "execution_count": null,
   "id": "e88b3dc9-2a27-4143-aee7-05ef3cac4cea",
   "metadata": {},
   "outputs": [],
   "source": []
  },
  {
   "cell_type": "code",
   "execution_count": null,
   "id": "a235bc9d-10de-4664-b905-0bd86c547bda",
   "metadata": {},
   "outputs": [],
   "source": [
    "from sklearn.ensemble import BaggingRegressor\n",
    "from sklearn.tree import DecisionTreeRegressor\n",
    "from sklearn.metrics import mean_squared_error\n",
    "from sklearn.model_selection import train_test_split\n",
    "from sklearn.preprocessing import StandardScaler\n",
    "from sklearn.model_selection import GridSearchCV\n",
    "import xgboost as xgb"
   ]
  },
  {
   "cell_type": "code",
   "execution_count": null,
   "id": "bef294a8-824b-4e0e-b342-734e29851a34",
   "metadata": {},
   "outputs": [],
   "source": []
  },
  {
   "cell_type": "code",
   "execution_count": null,
   "id": "3196e3fa-e67d-4a52-bba2-395fdc64dfde",
   "metadata": {},
   "outputs": [],
   "source": [
    "# 타이다닉 데이터 \n",
    "# 특성과 타겟 변수 분리\n",
    "X = titanic_encoded.drop(['survived'], axis=1)\n",
    "y = titanic_encoded['survived']\n",
    "\n",
    "# 데이터 분할\n",
    "X_train, X_test, y_train, y_test = train_test_split(X, y, test_size=0.2, random_state=42)\n",
    "\n",
    "# 데이터 스케일링\n",
    "scaler = StandardScaler()\n",
    "X_train_scaled = scaler.fit_transform(X_train)\n",
    "X_test_scaled = scaler.transform(X_test)"
   ]
  },
  {
   "cell_type": "code",
   "execution_count": null,
   "id": "bd8c15b1-be7c-44c8-a526-5001bd992406",
   "metadata": {},
   "outputs": [],
   "source": []
  },
  {
   "cell_type": "code",
   "execution_count": null,
   "id": "fce25991-a196-42d9-b3d0-3229ff12f88b",
   "metadata": {},
   "outputs": [],
   "source": [
    "# XGBoost 모델 생성\n",
    "xgb_model = xgb.XGBRegressor()\n",
    "\n",
    "# 튜닝할 하이퍼파라미터 그리드 설정\n",
    "param_grid = {\n",
    "    'n_estimators': [100, 200],\n",
    "    'learning_rate': [0.01, 0.1, 0.2],\n",
    "    'max_depth': [3, 5, 7],\n",
    "    'subsample': [0.8, 1.0],         # 0~1사이의 숫자를 지정\n",
    "    'colsample_bytree': [0.8, 1.0]   # 0~1사이의 숫자를 지정\n",
    "}\n",
    "\n",
    "# GridSearchCV 객체 생성\n",
    "grid_search = GridSearchCV(estimator=xgb_model, param_grid=param_grid, scoring='neg_mean_squared_error', cv=3)\n",
    "\n",
    "# 데이터 준비 (X_train, y_train)\n",
    "# ...\n",
    "\n",
    "# 모델 학습\n",
    "grid_search.fit(X_train, y_train)\n",
    "\n",
    "# 최적 하이퍼파라미터 출력\n",
    "print(\"최적의 하이퍼파라미터:\", grid_search.best_params_)\n",
    "\n",
    "# 최적의 모델로 예측\n",
    "best_model = grid_search.best_estimator_\n",
    "y_pred_xgb = best_model.predict(X_test)\n",
    "\n",
    "# 평가\n",
    "mse = mean_squared_error(y_test, y_pred_xgb)\n",
    "print(f'최적 모델의 MSE: {mse}')"
   ]
  },
  {
   "cell_type": "code",
   "execution_count": null,
   "id": "76b9dea7-e7c6-441c-81f9-98101197b06d",
   "metadata": {},
   "outputs": [],
   "source": []
  },
  {
   "cell_type": "code",
   "execution_count": null,
   "id": "0f9f56e1-c446-4abd-a89c-67578487c018",
   "metadata": {},
   "outputs": [],
   "source": [
    "import matplotlib.pyplot as plt\n",
    "import matplotlib.font_manager as fm\n",
    "\n",
    "# 한글 글꼴 설정\n",
    "font_path = \"C:/Windows/Fonts/malgun.ttf\"  # Malgun Gothic 경로\n",
    "font_prop = fm.FontProperties(fname=font_path)\n",
    "\n",
    "# matplotlib의 기본 폰트를 변경하여 한글 글꼴 사용\n",
    "plt.rc('font', family=font_prop.get_name())\n",
    "\n",
    "\n",
    "plt.figure(figsize=(10, 6))\n",
    "sns.histplot(y_test, color='blue', label='실제값', kde=True, stat='density', bins=30, alpha=0.5)\n",
    "sns.histplot(y_pred_xgb, color='orange', label='예측값', kde=True, stat='density', bins=30, alpha=0.5)\n",
    "plt.title('XGBoost: 실제값과 예측값의 분포', fontproperties=font_prop)\n",
    "plt.xlabel('값', fontproperties=font_prop)\n",
    "plt.ylabel('밀도', fontproperties=font_prop)\n",
    "plt.legend()\n",
    "plt.grid()\n",
    "plt.show()"
   ]
  },
  {
   "cell_type": "code",
   "execution_count": null,
   "id": "ae60b534-57a3-498d-904a-e7e9494dd2e9",
   "metadata": {},
   "outputs": [],
   "source": []
  },
  {
   "cell_type": "code",
   "execution_count": null,
   "id": "48d9b732-aa8d-401e-b713-8c094596186e",
   "metadata": {},
   "outputs": [],
   "source": [
    "# matplotlib의 기본 폰트를 변경하여 한글 글꼴 사용\n",
    "plt.rc('font', family=font_prop.get_name())\n",
    "\n",
    "plt.figure(figsize=(10, 6))\n",
    "residuals = y_test - y_pred_xgb\n",
    "plt.scatter(y_pred_xgb, residuals, alpha=0.7)\n",
    "plt.axhline(0, color='r', linestyle='--')  # 잔차가 0인 기준선\n",
    "plt.title('XGBoost: 예측값 vs 잔차', fontproperties=font_prop)\n",
    "plt.xlabel('예측값', fontproperties=font_prop)\n",
    "plt.ylabel('잔차', fontproperties=font_prop)\n",
    "plt.grid()\n",
    "plt.show()"
   ]
  },
  {
   "cell_type": "code",
   "execution_count": null,
   "id": "5eccd02b-9263-47e8-bd3b-f9959aee132e",
   "metadata": {},
   "outputs": [],
   "source": []
  },
  {
   "cell_type": "code",
   "execution_count": null,
   "id": "38f8c5ad-b65d-45dc-a84b-6c7efaded1f9",
   "metadata": {},
   "outputs": [],
   "source": []
  },
  {
   "cell_type": "code",
   "execution_count": null,
   "id": "82597666-9e63-4492-a7ea-0a3afb6fa0d7",
   "metadata": {},
   "outputs": [],
   "source": []
  },
  {
   "cell_type": "code",
   "execution_count": null,
   "id": "0d02aab0-5fe3-4c9f-b3d7-5bb029412b57",
   "metadata": {},
   "outputs": [],
   "source": []
  },
  {
   "cell_type": "code",
   "execution_count": null,
   "id": "e54b0581-49b5-4833-9f65-23e6374bb54a",
   "metadata": {},
   "outputs": [],
   "source": []
  },
  {
   "cell_type": "code",
   "execution_count": null,
   "id": "86436d58-c915-4a89-9eaf-7030cecf7ceb",
   "metadata": {},
   "outputs": [],
   "source": []
  },
  {
   "cell_type": "code",
   "execution_count": null,
   "id": "14bcba9a-30e5-461c-82d4-172ae9420765",
   "metadata": {},
   "outputs": [],
   "source": []
  },
  {
   "cell_type": "code",
   "execution_count": null,
   "id": "5ce641e3-5810-4b16-b8da-6a28d36e13bb",
   "metadata": {},
   "outputs": [],
   "source": []
  },
  {
   "cell_type": "code",
   "execution_count": null,
   "id": "c22c904e-826b-4cbd-92d6-a966e37dd62e",
   "metadata": {},
   "outputs": [],
   "source": []
  }
 ],
 "metadata": {
  "kernelspec": {
   "display_name": "Python (new_world)",
   "language": "python",
   "name": "new_world"
  },
  "language_info": {
   "codemirror_mode": {
    "name": "ipython",
    "version": 3
   },
   "file_extension": ".py",
   "mimetype": "text/x-python",
   "name": "python",
   "nbconvert_exporter": "python",
   "pygments_lexer": "ipython3",
   "version": "3.12.7"
  }
 },
 "nbformat": 4,
 "nbformat_minor": 5
}
